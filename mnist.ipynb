{
  "nbformat": 4,
  "nbformat_minor": 0,
  "metadata": {
    "colab": {
      "name": "mnist.ipynb",
      "version": "0.3.2",
      "provenance": [],
      "collapsed_sections": [],
      "include_colab_link": true
    },
    "kernelspec": {
      "name": "python3",
      "display_name": "Python 3"
    },
    "accelerator": "GPU"
  },
  "cells": [
    {
      "cell_type": "markdown",
      "metadata": {
        "id": "view-in-github",
        "colab_type": "text"
      },
      "source": [
        "<a href=\"https://colab.research.google.com/github/Lilhxr/AlgorithmDiagram/blob/master/mnist.ipynb\" target=\"_parent\"><img src=\"https://colab.research.google.com/assets/colab-badge.svg\" alt=\"Open In Colab\"/></a>"
      ]
    },
    {
      "cell_type": "code",
      "metadata": {
        "id": "H2kkUqXLrbCs",
        "colab_type": "code",
        "outputId": "a6f40147-2372-4aa1-9e8a-db6693c723bb",
        "colab": {
          "base_uri": "https://localhost:8080/",
          "height": 593
        }
      },
      "source": [
        "!apt-get install -y -qq software-properties-common python-software-properties module-init-tools\n",
        "!add-apt-repository -y ppa:alessandro-strada/ppa 2>&1 > /dev/null\n",
        "!apt-get update -qq 2>&1 > /dev/null\n",
        "!apt-get -y install -qq google-drive-ocamlfuse fuse\n",
        "from google.colab import auth\n",
        "auth.authenticate_user()\n",
        "from oauth2client.client import GoogleCredentials\n",
        "creds = GoogleCredentials.get_application_default()\n",
        "import getpass\n",
        "!google-drive-ocamlfuse -headless -id={creds.client_id} -secret={creds.client_secret} < /dev/null 2>&1 | grep URL\n",
        "vcode = getpass.getpass()\n",
        "!echo {vcode} | google-drive-ocamlfuse -headless -id={creds.client_id} -secret={creds.client_secret}\n"
      ],
      "execution_count": 0,
      "outputs": [
        {
          "output_type": "stream",
          "text": [
            "E: Package 'python-software-properties' has no installation candidate\n"
          ],
          "name": "stdout"
        },
        {
          "output_type": "error",
          "ename": "KeyboardInterrupt",
          "evalue": "ignored",
          "traceback": [
            "\u001b[0;31m---------------------------------------------------------------------------\u001b[0m",
            "\u001b[0;31mKeyboardInterrupt\u001b[0m                         Traceback (most recent call last)",
            "\u001b[0;32m/usr/local/lib/python3.6/dist-packages/ipykernel/kernelbase.py\u001b[0m in \u001b[0;36m_input_request\u001b[0;34m(self, prompt, ident, parent, password)\u001b[0m\n\u001b[1;32m    729\u001b[0m             \u001b[0;32mtry\u001b[0m\u001b[0;34m:\u001b[0m\u001b[0;34m\u001b[0m\u001b[0;34m\u001b[0m\u001b[0m\n\u001b[0;32m--> 730\u001b[0;31m                 \u001b[0mident\u001b[0m\u001b[0;34m,\u001b[0m \u001b[0mreply\u001b[0m \u001b[0;34m=\u001b[0m \u001b[0mself\u001b[0m\u001b[0;34m.\u001b[0m\u001b[0msession\u001b[0m\u001b[0;34m.\u001b[0m\u001b[0mrecv\u001b[0m\u001b[0;34m(\u001b[0m\u001b[0mself\u001b[0m\u001b[0;34m.\u001b[0m\u001b[0mstdin_socket\u001b[0m\u001b[0;34m,\u001b[0m \u001b[0;36m0\u001b[0m\u001b[0;34m)\u001b[0m\u001b[0;34m\u001b[0m\u001b[0;34m\u001b[0m\u001b[0m\n\u001b[0m\u001b[1;32m    731\u001b[0m             \u001b[0;32mexcept\u001b[0m \u001b[0mException\u001b[0m\u001b[0;34m:\u001b[0m\u001b[0;34m\u001b[0m\u001b[0;34m\u001b[0m\u001b[0m\n",
            "\u001b[0;32m/usr/local/lib/python3.6/dist-packages/jupyter_client/session.py\u001b[0m in \u001b[0;36mrecv\u001b[0;34m(self, socket, mode, content, copy)\u001b[0m\n\u001b[1;32m    802\u001b[0m         \u001b[0;32mtry\u001b[0m\u001b[0;34m:\u001b[0m\u001b[0;34m\u001b[0m\u001b[0;34m\u001b[0m\u001b[0m\n\u001b[0;32m--> 803\u001b[0;31m             \u001b[0mmsg_list\u001b[0m \u001b[0;34m=\u001b[0m \u001b[0msocket\u001b[0m\u001b[0;34m.\u001b[0m\u001b[0mrecv_multipart\u001b[0m\u001b[0;34m(\u001b[0m\u001b[0mmode\u001b[0m\u001b[0;34m,\u001b[0m \u001b[0mcopy\u001b[0m\u001b[0;34m=\u001b[0m\u001b[0mcopy\u001b[0m\u001b[0;34m)\u001b[0m\u001b[0;34m\u001b[0m\u001b[0;34m\u001b[0m\u001b[0m\n\u001b[0m\u001b[1;32m    804\u001b[0m         \u001b[0;32mexcept\u001b[0m \u001b[0mzmq\u001b[0m\u001b[0;34m.\u001b[0m\u001b[0mZMQError\u001b[0m \u001b[0;32mas\u001b[0m \u001b[0me\u001b[0m\u001b[0;34m:\u001b[0m\u001b[0;34m\u001b[0m\u001b[0;34m\u001b[0m\u001b[0m\n",
            "\u001b[0;32m/usr/local/lib/python3.6/dist-packages/zmq/sugar/socket.py\u001b[0m in \u001b[0;36mrecv_multipart\u001b[0;34m(self, flags, copy, track)\u001b[0m\n\u001b[1;32m    465\u001b[0m         \"\"\"\n\u001b[0;32m--> 466\u001b[0;31m         \u001b[0mparts\u001b[0m \u001b[0;34m=\u001b[0m \u001b[0;34m[\u001b[0m\u001b[0mself\u001b[0m\u001b[0;34m.\u001b[0m\u001b[0mrecv\u001b[0m\u001b[0;34m(\u001b[0m\u001b[0mflags\u001b[0m\u001b[0;34m,\u001b[0m \u001b[0mcopy\u001b[0m\u001b[0;34m=\u001b[0m\u001b[0mcopy\u001b[0m\u001b[0;34m,\u001b[0m \u001b[0mtrack\u001b[0m\u001b[0;34m=\u001b[0m\u001b[0mtrack\u001b[0m\u001b[0;34m)\u001b[0m\u001b[0;34m]\u001b[0m\u001b[0;34m\u001b[0m\u001b[0;34m\u001b[0m\u001b[0m\n\u001b[0m\u001b[1;32m    467\u001b[0m         \u001b[0;31m# have first part already, only loop while more to receive\u001b[0m\u001b[0;34m\u001b[0m\u001b[0;34m\u001b[0m\u001b[0;34m\u001b[0m\u001b[0m\n",
            "\u001b[0;32mzmq/backend/cython/socket.pyx\u001b[0m in \u001b[0;36mzmq.backend.cython.socket.Socket.recv\u001b[0;34m()\u001b[0m\n",
            "\u001b[0;32mzmq/backend/cython/socket.pyx\u001b[0m in \u001b[0;36mzmq.backend.cython.socket.Socket.recv\u001b[0;34m()\u001b[0m\n",
            "\u001b[0;32mzmq/backend/cython/socket.pyx\u001b[0m in \u001b[0;36mzmq.backend.cython.socket._recv_copy\u001b[0;34m()\u001b[0m\n",
            "\u001b[0;32m/usr/local/lib/python3.6/dist-packages/zmq/backend/cython/checkrc.pxd\u001b[0m in \u001b[0;36mzmq.backend.cython.checkrc._check_rc\u001b[0;34m()\u001b[0m\n",
            "\u001b[0;31mKeyboardInterrupt\u001b[0m: ",
            "\nDuring handling of the above exception, another exception occurred:\n",
            "\u001b[0;31mKeyboardInterrupt\u001b[0m                         Traceback (most recent call last)",
            "\u001b[0;32m<ipython-input-4-75a4d519ca25>\u001b[0m in \u001b[0;36m<module>\u001b[0;34m()\u001b[0m\n\u001b[1;32m      9\u001b[0m \u001b[0;32mimport\u001b[0m \u001b[0mgetpass\u001b[0m\u001b[0;34m\u001b[0m\u001b[0;34m\u001b[0m\u001b[0m\n\u001b[1;32m     10\u001b[0m \u001b[0mget_ipython\u001b[0m\u001b[0;34m(\u001b[0m\u001b[0;34m)\u001b[0m\u001b[0;34m.\u001b[0m\u001b[0msystem\u001b[0m\u001b[0;34m(\u001b[0m\u001b[0;34m'google-drive-ocamlfuse -headless -id={creds.client_id} -secret={creds.client_secret} < /dev/null 2>&1 | grep URL'\u001b[0m\u001b[0;34m)\u001b[0m\u001b[0;34m\u001b[0m\u001b[0;34m\u001b[0m\u001b[0m\n\u001b[0;32m---> 11\u001b[0;31m \u001b[0mvcode\u001b[0m \u001b[0;34m=\u001b[0m \u001b[0mgetpass\u001b[0m\u001b[0;34m.\u001b[0m\u001b[0mgetpass\u001b[0m\u001b[0;34m(\u001b[0m\u001b[0;34m)\u001b[0m\u001b[0;34m\u001b[0m\u001b[0;34m\u001b[0m\u001b[0m\n\u001b[0m\u001b[1;32m     12\u001b[0m \u001b[0mget_ipython\u001b[0m\u001b[0;34m(\u001b[0m\u001b[0;34m)\u001b[0m\u001b[0;34m.\u001b[0m\u001b[0msystem\u001b[0m\u001b[0;34m(\u001b[0m\u001b[0;34m'echo {vcode} | google-drive-ocamlfuse -headless -id={creds.client_id} -secret={creds.client_secret}'\u001b[0m\u001b[0;34m)\u001b[0m\u001b[0;34m\u001b[0m\u001b[0;34m\u001b[0m\u001b[0m\n",
            "\u001b[0;32m/usr/local/lib/python3.6/dist-packages/ipykernel/kernelbase.py\u001b[0m in \u001b[0;36mgetpass\u001b[0;34m(self, prompt, stream)\u001b[0m\n\u001b[1;32m    686\u001b[0m             \u001b[0mself\u001b[0m\u001b[0;34m.\u001b[0m\u001b[0m_parent_ident\u001b[0m\u001b[0;34m,\u001b[0m\u001b[0;34m\u001b[0m\u001b[0;34m\u001b[0m\u001b[0m\n\u001b[1;32m    687\u001b[0m             \u001b[0mself\u001b[0m\u001b[0;34m.\u001b[0m\u001b[0m_parent_header\u001b[0m\u001b[0;34m,\u001b[0m\u001b[0;34m\u001b[0m\u001b[0;34m\u001b[0m\u001b[0m\n\u001b[0;32m--> 688\u001b[0;31m             \u001b[0mpassword\u001b[0m\u001b[0;34m=\u001b[0m\u001b[0;32mTrue\u001b[0m\u001b[0;34m,\u001b[0m\u001b[0;34m\u001b[0m\u001b[0;34m\u001b[0m\u001b[0m\n\u001b[0m\u001b[1;32m    689\u001b[0m         )\n\u001b[1;32m    690\u001b[0m \u001b[0;34m\u001b[0m\u001b[0m\n",
            "\u001b[0;32m/usr/local/lib/python3.6/dist-packages/ipykernel/kernelbase.py\u001b[0m in \u001b[0;36m_input_request\u001b[0;34m(self, prompt, ident, parent, password)\u001b[0m\n\u001b[1;32m    733\u001b[0m             \u001b[0;32mexcept\u001b[0m \u001b[0mKeyboardInterrupt\u001b[0m\u001b[0;34m:\u001b[0m\u001b[0;34m\u001b[0m\u001b[0;34m\u001b[0m\u001b[0m\n\u001b[1;32m    734\u001b[0m                 \u001b[0;31m# re-raise KeyboardInterrupt, to truncate traceback\u001b[0m\u001b[0;34m\u001b[0m\u001b[0;34m\u001b[0m\u001b[0;34m\u001b[0m\u001b[0m\n\u001b[0;32m--> 735\u001b[0;31m                 \u001b[0;32mraise\u001b[0m \u001b[0mKeyboardInterrupt\u001b[0m\u001b[0;34m\u001b[0m\u001b[0;34m\u001b[0m\u001b[0m\n\u001b[0m\u001b[1;32m    736\u001b[0m             \u001b[0;32melse\u001b[0m\u001b[0;34m:\u001b[0m\u001b[0;34m\u001b[0m\u001b[0;34m\u001b[0m\u001b[0m\n\u001b[1;32m    737\u001b[0m                 \u001b[0;32mbreak\u001b[0m\u001b[0;34m\u001b[0m\u001b[0;34m\u001b[0m\u001b[0m\n",
            "\u001b[0;31mKeyboardInterrupt\u001b[0m: "
          ]
        }
      ]
    },
    {
      "cell_type": "code",
      "metadata": {
        "id": "JSJdVMgfsRgY",
        "colab_type": "code",
        "colab": {}
      },
      "source": [
        "!mkdir -p drive\n",
        "!google-drive-ocamlfuse drive  -o nonempty\n"
      ],
      "execution_count": 0,
      "outputs": []
    },
    {
      "cell_type": "code",
      "metadata": {
        "id": "cJ2KeFzTsX5g",
        "colab_type": "code",
        "colab": {}
      },
      "source": [
        "!pip install -q keras\n"
      ],
      "execution_count": 0,
      "outputs": []
    },
    {
      "cell_type": "code",
      "metadata": {
        "id": "2QedOBokunVf",
        "colab_type": "code",
        "outputId": "44701263-3c95-4fda-e6ab-0660fd4f0fe9",
        "colab": {
          "base_uri": "https://localhost:8080/",
          "height": 71
        }
      },
      "source": [
        "!pip install -q numpy\n",
        "!pip install -q matplotlib\n",
        "!pip install -q scipy\n",
        "!pip install -q imread\n",
        "!pip install -q imresize"
      ],
      "execution_count": 0,
      "outputs": [
        {
          "output_type": "stream",
          "text": [
            "\u001b[?25l\r\u001b[K     |▏                               | 10kB 17.5MB/s eta 0:00:01\r\u001b[K     |▍                               | 20kB 4.6MB/s eta 0:00:01\r\u001b[K     |▋                               | 30kB 6.5MB/s eta 0:00:01\r\u001b[K     |▉                               | 40kB 4.1MB/s eta 0:00:01\r\u001b[K     |█                               | 51kB 5.0MB/s eta 0:00:01\r\u001b[K     |█▎                              | 61kB 5.9MB/s eta 0:00:01\r\u001b[K     |█▌                              | 71kB 6.8MB/s eta 0:00:01\r\u001b[K     |█▊                              | 81kB 7.6MB/s eta 0:00:01\r\u001b[K     |██                              | 92kB 8.4MB/s eta 0:00:01\r\u001b[K     |██▏                             | 102kB 6.6MB/s eta 0:00:01\r\u001b[K     |██▍                             | 112kB 6.6MB/s eta 0:00:01\r\u001b[K     |██▋                             | 122kB 6.6MB/s eta 0:00:01\r\u001b[K     |██▉                             | 133kB 6.6MB/s eta 0:00:01\r\u001b[K     |███                             | 143kB 6.6MB/s eta 0:00:01\r\u001b[K     |███▎                            | 153kB 6.6MB/s eta 0:00:01\r\u001b[K     |███▌                            | 163kB 6.6MB/s eta 0:00:01\r\u001b[K     |███▊                            | 174kB 6.6MB/s eta 0:00:01\r\u001b[K     |████                            | 184kB 6.6MB/s eta 0:00:01\r\u001b[K     |████▏                           | 194kB 6.6MB/s eta 0:00:01\r\u001b[K     |████▍                           | 204kB 6.6MB/s eta 0:00:01\r\u001b[K     |████▋                           | 215kB 6.6MB/s eta 0:00:01\r\u001b[K     |████▉                           | 225kB 6.6MB/s eta 0:00:01\r\u001b[K     |█████                           | 235kB 6.6MB/s eta 0:00:01\r\u001b[K     |█████▎                          | 245kB 6.6MB/s eta 0:00:01\r\u001b[K     |█████▌                          | 256kB 6.6MB/s eta 0:00:01\r\u001b[K     |█████▊                          | 266kB 6.6MB/s eta 0:00:01\r\u001b[K     |█████▉                          | 276kB 6.6MB/s eta 0:00:01\r\u001b[K     |██████                          | 286kB 6.6MB/s eta 0:00:01\r\u001b[K     |██████▎                         | 296kB 6.6MB/s eta 0:00:01\r\u001b[K     |██████▌                         | 307kB 6.6MB/s eta 0:00:01\r\u001b[K     |██████▊                         | 317kB 6.6MB/s eta 0:00:01\r\u001b[K     |███████                         | 327kB 6.6MB/s eta 0:00:01\r\u001b[K     |███████▏                        | 337kB 6.6MB/s eta 0:00:01\r\u001b[K     |███████▍                        | 348kB 6.6MB/s eta 0:00:01\r\u001b[K     |███████▋                        | 358kB 6.6MB/s eta 0:00:01\r\u001b[K     |███████▉                        | 368kB 6.6MB/s eta 0:00:01\r\u001b[K     |████████                        | 378kB 6.6MB/s eta 0:00:01\r\u001b[K     |████████▎                       | 389kB 6.6MB/s eta 0:00:01\r\u001b[K     |████████▌                       | 399kB 6.6MB/s eta 0:00:01\r\u001b[K     |████████▊                       | 409kB 6.6MB/s eta 0:00:01\r\u001b[K     |█████████                       | 419kB 6.6MB/s eta 0:00:01\r\u001b[K     |█████████▏                      | 430kB 6.6MB/s eta 0:00:01\r\u001b[K     |█████████▍                      | 440kB 6.6MB/s eta 0:00:01\r\u001b[K     |█████████▋                      | 450kB 6.6MB/s eta 0:00:01\r\u001b[K     |█████████▉                      | 460kB 6.6MB/s eta 0:00:01\r\u001b[K     |██████████                      | 471kB 6.6MB/s eta 0:00:01\r\u001b[K     |██████████▎                     | 481kB 6.6MB/s eta 0:00:01\r\u001b[K     |██████████▌                     | 491kB 6.6MB/s eta 0:00:01\r\u001b[K     |██████████▊                     | 501kB 6.6MB/s eta 0:00:01\r\u001b[K     |███████████                     | 512kB 6.6MB/s eta 0:00:01\r\u001b[K     |███████████▏                    | 522kB 6.6MB/s eta 0:00:01\r\u001b[K     |███████████▍                    | 532kB 6.6MB/s eta 0:00:01\r\u001b[K     |███████████▋                    | 542kB 6.6MB/s eta 0:00:01\r\u001b[K     |███████████▊                    | 552kB 6.6MB/s eta 0:00:01\r\u001b[K     |████████████                    | 563kB 6.6MB/s eta 0:00:01\r\u001b[K     |████████████▏                   | 573kB 6.6MB/s eta 0:00:01\r\u001b[K     |████████████▍                   | 583kB 6.6MB/s eta 0:00:01\r\u001b[K     |████████████▋                   | 593kB 6.6MB/s eta 0:00:01\r\u001b[K     |████████████▉                   | 604kB 6.6MB/s eta 0:00:01\r\u001b[K     |█████████████                   | 614kB 6.6MB/s eta 0:00:01\r\u001b[K     |█████████████▎                  | 624kB 6.6MB/s eta 0:00:01\r\u001b[K     |█████████████▌                  | 634kB 6.6MB/s eta 0:00:01\r\u001b[K     |█████████████▊                  | 645kB 6.6MB/s eta 0:00:01\r\u001b[K     |██████████████                  | 655kB 6.6MB/s eta 0:00:01\r\u001b[K     |██████████████▏                 | 665kB 6.6MB/s eta 0:00:01\r\u001b[K     |██████████████▍                 | 675kB 6.6MB/s eta 0:00:01\r\u001b[K     |██████████████▋                 | 686kB 6.6MB/s eta 0:00:01\r\u001b[K     |██████████████▉                 | 696kB 6.6MB/s eta 0:00:01\r\u001b[K     |███████████████                 | 706kB 6.6MB/s eta 0:00:01\r\u001b[K     |███████████████▎                | 716kB 6.6MB/s eta 0:00:01\r\u001b[K     |███████████████▌                | 727kB 6.6MB/s eta 0:00:01\r\u001b[K     |███████████████▊                | 737kB 6.6MB/s eta 0:00:01\r\u001b[K     |████████████████                | 747kB 6.6MB/s eta 0:00:01\r\u001b[K     |████████████████▏               | 757kB 6.6MB/s eta 0:00:01\r\u001b[K     |████████████████▍               | 768kB 6.6MB/s eta 0:00:01\r\u001b[K     |████████████████▋               | 778kB 6.6MB/s eta 0:00:01\r\u001b[K     |████████████████▉               | 788kB 6.6MB/s eta 0:00:01\r\u001b[K     |█████████████████               | 798kB 6.6MB/s eta 0:00:01\r\u001b[K     |█████████████████▎              | 808kB 6.6MB/s eta 0:00:01\r\u001b[K     |█████████████████▍              | 819kB 6.6MB/s eta 0:00:01\r\u001b[K     |█████████████████▋              | 829kB 6.6MB/s eta 0:00:01\r\u001b[K     |█████████████████▉              | 839kB 6.6MB/s eta 0:00:01\r\u001b[K     |██████████████████              | 849kB 6.6MB/s eta 0:00:01\r\u001b[K     |██████████████████▎             | 860kB 6.6MB/s eta 0:00:01\r\u001b[K     |██████████████████▌             | 870kB 6.6MB/s eta 0:00:01\r\u001b[K     |██████████████████▊             | 880kB 6.6MB/s eta 0:00:01\r\u001b[K     |███████████████████             | 890kB 6.6MB/s eta 0:00:01\r\u001b[K     |███████████████████▏            | 901kB 6.6MB/s eta 0:00:01\r\u001b[K     |███████████████████▍            | 911kB 6.6MB/s eta 0:00:01\r\u001b[K     |███████████████████▋            | 921kB 6.6MB/s eta 0:00:01\r\u001b[K     |███████████████████▉            | 931kB 6.6MB/s eta 0:00:01\r\u001b[K     |████████████████████            | 942kB 6.6MB/s eta 0:00:01\r\u001b[K     |████████████████████▎           | 952kB 6.6MB/s eta 0:00:01\r\u001b[K     |████████████████████▌           | 962kB 6.6MB/s eta 0:00:01\r\u001b[K     |████████████████████▊           | 972kB 6.6MB/s eta 0:00:01\r\u001b[K     |█████████████████████           | 983kB 6.6MB/s eta 0:00:01\r\u001b[K     |█████████████████████▏          | 993kB 6.6MB/s eta 0:00:01\r\u001b[K     |█████████████████████▍          | 1.0MB 6.6MB/s eta 0:00:01\r\u001b[K     |█████████████████████▋          | 1.0MB 6.6MB/s eta 0:00:01\r\u001b[K     |█████████████████████▉          | 1.0MB 6.6MB/s eta 0:00:01\r\u001b[K     |██████████████████████          | 1.0MB 6.6MB/s eta 0:00:01\r\u001b[K     |██████████████████████▎         | 1.0MB 6.6MB/s eta 0:00:01\r\u001b[K     |██████████████████████▌         | 1.1MB 6.6MB/s eta 0:00:01\r\u001b[K     |██████████████████████▊         | 1.1MB 6.6MB/s eta 0:00:01\r\u001b[K     |███████████████████████         | 1.1MB 6.6MB/s eta 0:00:01\r\u001b[K     |███████████████████████▏        | 1.1MB 6.6MB/s eta 0:00:01\r\u001b[K     |███████████████████████▎        | 1.1MB 6.6MB/s eta 0:00:01\r\u001b[K     |███████████████████████▌        | 1.1MB 6.6MB/s eta 0:00:01\r\u001b[K     |███████████████████████▊        | 1.1MB 6.6MB/s eta 0:00:01\r\u001b[K     |████████████████████████        | 1.1MB 6.6MB/s eta 0:00:01\r\u001b[K     |████████████████████████▏       | 1.1MB 6.6MB/s eta 0:00:01\r\u001b[K     |████████████████████████▍       | 1.1MB 6.6MB/s eta 0:00:01\r\u001b[K     |████████████████████████▋       | 1.2MB 6.6MB/s eta 0:00:01\r\u001b[K     |████████████████████████▉       | 1.2MB 6.6MB/s eta 0:00:01\r\u001b[K     |█████████████████████████       | 1.2MB 6.6MB/s eta 0:00:01\r\u001b[K     |█████████████████████████▎      | 1.2MB 6.6MB/s eta 0:00:01\r\u001b[K     |█████████████████████████▌      | 1.2MB 6.6MB/s eta 0:00:01\r\u001b[K     |█████████████████████████▊      | 1.2MB 6.6MB/s eta 0:00:01\r\u001b[K     |██████████████████████████      | 1.2MB 6.6MB/s eta 0:00:01\r\u001b[K     |██████████████████████████▏     | 1.2MB 6.6MB/s eta 0:00:01\r\u001b[K     |██████████████████████████▍     | 1.2MB 6.6MB/s eta 0:00:01\r\u001b[K     |██████████████████████████▋     | 1.2MB 6.6MB/s eta 0:00:01\r\u001b[K     |██████████████████████████▉     | 1.3MB 6.6MB/s eta 0:00:01\r\u001b[K     |███████████████████████████     | 1.3MB 6.6MB/s eta 0:00:01\r\u001b[K     |███████████████████████████▎    | 1.3MB 6.6MB/s eta 0:00:01\r\u001b[K     |███████████████████████████▌    | 1.3MB 6.6MB/s eta 0:00:01\r\u001b[K     |███████████████████████████▊    | 1.3MB 6.6MB/s eta 0:00:01\r\u001b[K     |████████████████████████████    | 1.3MB 6.6MB/s eta 0:00:01\r\u001b[K     |████████████████████████████▏   | 1.3MB 6.6MB/s eta 0:00:01\r\u001b[K     |████████████████████████████▍   | 1.3MB 6.6MB/s eta 0:00:01\r\u001b[K     |████████████████████████████▋   | 1.3MB 6.6MB/s eta 0:00:01\r\u001b[K     |████████████████████████████▉   | 1.4MB 6.6MB/s eta 0:00:01\r\u001b[K     |█████████████████████████████   | 1.4MB 6.6MB/s eta 0:00:01\r\u001b[K     |█████████████████████████████▏  | 1.4MB 6.6MB/s eta 0:00:01\r\u001b[K     |█████████████████████████████▍  | 1.4MB 6.6MB/s eta 0:00:01\r\u001b[K     |█████████████████████████████▋  | 1.4MB 6.6MB/s eta 0:00:01\r\u001b[K     |█████████████████████████████▉  | 1.4MB 6.6MB/s eta 0:00:01\r\u001b[K     |██████████████████████████████  | 1.4MB 6.6MB/s eta 0:00:01\r\u001b[K     |██████████████████████████████▎ | 1.4MB 6.6MB/s eta 0:00:01\r\u001b[K     |██████████████████████████████▌ | 1.4MB 6.6MB/s eta 0:00:01\r\u001b[K     |██████████████████████████████▊ | 1.4MB 6.6MB/s eta 0:00:01\r\u001b[K     |███████████████████████████████ | 1.5MB 6.6MB/s eta 0:00:01\r\u001b[K     |███████████████████████████████▏| 1.5MB 6.6MB/s eta 0:00:01\r\u001b[K     |███████████████████████████████▍| 1.5MB 6.6MB/s eta 0:00:01\r\u001b[K     |███████████████████████████████▋| 1.5MB 6.6MB/s eta 0:00:01\r\u001b[K     |███████████████████████████████▉| 1.5MB 6.6MB/s eta 0:00:01\r\u001b[K     |████████████████████████████████| 1.5MB 6.6MB/s \n",
            "\u001b[?25h\u001b[31m  ERROR: Could not find a version that satisfies the requirement imresize (from versions: none)\u001b[0m\n",
            "\u001b[31mERROR: No matching distribution found for imresize\u001b[0m\n"
          ],
          "name": "stdout"
        }
      ]
    },
    {
      "cell_type": "code",
      "metadata": {
        "id": "KV2JB9-ysjYe",
        "colab_type": "code",
        "outputId": "c065975e-9bbb-4ab8-b628-47d08cdc5d61",
        "colab": {
          "base_uri": "https://localhost:8080/",
          "height": 1000
        }
      },
      "source": [
        "from __future__ import print_function\n",
        "import keras\n",
        "from keras.datasets import mnist\n",
        "from keras.models import Sequential\n",
        "from keras.layers import Dense, Dropout, Flatten\n",
        "from keras.layers import Conv2D, MaxPooling2D\n",
        "from keras import backend as K\n",
        "\n",
        "batch_size = 128\n",
        "num_classes = 10\n",
        "epochs = 12\n",
        "\n",
        "# input image dimensions\n",
        "img_rows, img_cols = 28, 28\n",
        "\n",
        "# the data, shuffled and split between train and test sets\n",
        "(x_train, y_train), (x_test, y_test) = mnist.load_data()\n",
        "\n",
        "if K.image_data_format() == 'channels_first':\n",
        "    x_train = x_train.reshape(x_train.shape[0], 1, img_rows, img_cols)\n",
        "    x_test = x_test.reshape(x_test.shape[0], 1, img_rows, img_cols)\n",
        "    input_shape = (1, img_rows, img_cols)\n",
        "else:\n",
        "    x_train = x_train.reshape(x_train.shape[0], img_rows, img_cols, 1)\n",
        "    x_test = x_test.reshape(x_test.shape[0], img_rows, img_cols, 1)\n",
        "    input_shape = (img_rows, img_cols, 1)\n",
        "\n",
        "x_train = x_train.astype('float32')\n",
        "x_test = x_test.astype('float32')\n",
        "x_train /= 255\n",
        "x_test /= 255\n",
        "print('x_train shape:', x_train.shape)\n",
        "print(x_train.shape[0], 'train samples')\n",
        "print(x_test.shape[0], 'test samples')\n",
        "\n",
        "# convert class vectors to binary class matrices\n",
        "y_train = keras.utils.to_categorical(y_train, num_classes)\n",
        "y_test = keras.utils.to_categorical(y_test, num_classes)\n",
        "\n",
        "model = Sequential()\n",
        "model.add(Conv2D(32, kernel_size=(3, 3),\n",
        "                 activation='relu',\n",
        "                 input_shape=input_shape))\n",
        "model.add(Conv2D(64, (3, 3), activation='relu'))\n",
        "model.add(MaxPooling2D(pool_size=(2, 2)))\n",
        "model.add(Dropout(0.25))\n",
        "model.add(Flatten())\n",
        "model.add(Dense(128, activation='relu'))\n",
        "model.add(Dropout(0.5))\n",
        "model.add(Dense(num_classes, activation='softmax'))\n",
        "\n",
        "model.compile(loss=keras.losses.categorical_crossentropy,\n",
        "              optimizer=keras.optimizers.Adadelta(),\n",
        "              metrics=['accuracy'])\n",
        "\n",
        "model.fit(x_train, y_train,\n",
        "          batch_size=batch_size,\n",
        "          epochs=epochs,\n",
        "          verbose=1,\n",
        "          validation_data=(x_test, y_test))\n",
        "score = model.evaluate(x_test, y_test, verbose=0)\n",
        "print('Test loss:', score[0])\n",
        "print('Test accuracy:', score[1])\n"
      ],
      "execution_count": 0,
      "outputs": [
        {
          "output_type": "stream",
          "text": [
            "Using TensorFlow backend.\n"
          ],
          "name": "stderr"
        },
        {
          "output_type": "stream",
          "text": [
            "Downloading data from https://s3.amazonaws.com/img-datasets/mnist.npz\n",
            "11493376/11490434 [==============================] - 1s 0us/step\n"
          ],
          "name": "stdout"
        },
        {
          "output_type": "stream",
          "text": [
            "WARNING: Logging before flag parsing goes to stderr.\n",
            "W0709 03:12:28.793931 140035343882112 deprecation_wrapper.py:119] From /usr/local/lib/python3.6/dist-packages/keras/backend/tensorflow_backend.py:74: The name tf.get_default_graph is deprecated. Please use tf.compat.v1.get_default_graph instead.\n",
            "\n",
            "W0709 03:12:28.832804 140035343882112 deprecation_wrapper.py:119] From /usr/local/lib/python3.6/dist-packages/keras/backend/tensorflow_backend.py:517: The name tf.placeholder is deprecated. Please use tf.compat.v1.placeholder instead.\n",
            "\n",
            "W0709 03:12:28.841304 140035343882112 deprecation_wrapper.py:119] From /usr/local/lib/python3.6/dist-packages/keras/backend/tensorflow_backend.py:4138: The name tf.random_uniform is deprecated. Please use tf.random.uniform instead.\n",
            "\n",
            "W0709 03:12:28.890148 140035343882112 deprecation_wrapper.py:119] From /usr/local/lib/python3.6/dist-packages/keras/backend/tensorflow_backend.py:3976: The name tf.nn.max_pool is deprecated. Please use tf.nn.max_pool2d instead.\n",
            "\n",
            "W0709 03:12:28.893892 140035343882112 deprecation_wrapper.py:119] From /usr/local/lib/python3.6/dist-packages/keras/backend/tensorflow_backend.py:133: The name tf.placeholder_with_default is deprecated. Please use tf.compat.v1.placeholder_with_default instead.\n",
            "\n",
            "W0709 03:12:28.907712 140035343882112 deprecation.py:506] From /usr/local/lib/python3.6/dist-packages/keras/backend/tensorflow_backend.py:3445: calling dropout (from tensorflow.python.ops.nn_ops) with keep_prob is deprecated and will be removed in a future version.\n",
            "Instructions for updating:\n",
            "Please use `rate` instead of `keep_prob`. Rate should be set to `rate = 1 - keep_prob`.\n"
          ],
          "name": "stderr"
        },
        {
          "output_type": "stream",
          "text": [
            "x_train shape: (60000, 28, 28, 1)\n",
            "60000 train samples\n",
            "10000 test samples\n"
          ],
          "name": "stdout"
        },
        {
          "output_type": "stream",
          "text": [
            "W0709 03:12:29.010648 140035343882112 deprecation_wrapper.py:119] From /usr/local/lib/python3.6/dist-packages/keras/optimizers.py:790: The name tf.train.Optimizer is deprecated. Please use tf.compat.v1.train.Optimizer instead.\n",
            "\n",
            "W0709 03:12:29.022821 140035343882112 deprecation_wrapper.py:119] From /usr/local/lib/python3.6/dist-packages/keras/backend/tensorflow_backend.py:3295: The name tf.log is deprecated. Please use tf.math.log instead.\n",
            "\n",
            "W0709 03:12:29.166287 140035343882112 deprecation.py:323] From /usr/local/lib/python3.6/dist-packages/tensorflow/python/ops/math_grad.py:1250: add_dispatch_support.<locals>.wrapper (from tensorflow.python.ops.array_ops) is deprecated and will be removed in a future version.\n",
            "Instructions for updating:\n",
            "Use tf.where in 2.0, which has the same broadcast rule as np.where\n"
          ],
          "name": "stderr"
        },
        {
          "output_type": "stream",
          "text": [
            "Train on 60000 samples, validate on 10000 samples\n",
            "Epoch 1/12\n",
            "60000/60000 [==============================] - 15s 254us/step - loss: 0.2744 - acc: 0.9160 - val_loss: 0.0572 - val_acc: 0.9833\n",
            "Epoch 2/12\n",
            "60000/60000 [==============================] - 9s 148us/step - loss: 0.0902 - acc: 0.9724 - val_loss: 0.0405 - val_acc: 0.9861\n",
            "Epoch 3/12\n",
            "60000/60000 [==============================] - 9s 148us/step - loss: 0.0680 - acc: 0.9801 - val_loss: 0.0431 - val_acc: 0.9853\n",
            "Epoch 4/12\n",
            "60000/60000 [==============================] - 9s 148us/step - loss: 0.0565 - acc: 0.9830 - val_loss: 0.0380 - val_acc: 0.9870\n",
            "Epoch 5/12\n",
            "60000/60000 [==============================] - 9s 148us/step - loss: 0.0487 - acc: 0.9853 - val_loss: 0.0320 - val_acc: 0.9890\n",
            "Epoch 6/12\n",
            "60000/60000 [==============================] - 9s 148us/step - loss: 0.0442 - acc: 0.9867 - val_loss: 0.0331 - val_acc: 0.9900\n",
            "Epoch 7/12\n",
            "60000/60000 [==============================] - 9s 148us/step - loss: 0.0390 - acc: 0.9883 - val_loss: 0.0327 - val_acc: 0.9900\n",
            "Epoch 8/12\n",
            "60000/60000 [==============================] - 9s 147us/step - loss: 0.0331 - acc: 0.9900 - val_loss: 0.0266 - val_acc: 0.9920\n",
            "Epoch 9/12\n",
            "60000/60000 [==============================] - 9s 147us/step - loss: 0.0323 - acc: 0.9901 - val_loss: 0.0257 - val_acc: 0.9919\n",
            "Epoch 10/12\n",
            "60000/60000 [==============================] - 9s 148us/step - loss: 0.0295 - acc: 0.9912 - val_loss: 0.0259 - val_acc: 0.9909\n",
            "Epoch 11/12\n",
            "60000/60000 [==============================] - 9s 147us/step - loss: 0.0300 - acc: 0.9913 - val_loss: 0.0310 - val_acc: 0.9898\n",
            "Epoch 12/12\n",
            "60000/60000 [==============================] - 9s 147us/step - loss: 0.0288 - acc: 0.9912 - val_loss: 0.0240 - val_acc: 0.9921\n",
            "Test loss: 0.023996357643766897\n",
            "Test accuracy: 0.9921\n"
          ],
          "name": "stdout"
        }
      ]
    },
    {
      "cell_type": "code",
      "metadata": {
        "id": "JfncSU2-uXa4",
        "colab_type": "code",
        "outputId": "9ea01c08-f5ce-44ff-deea-53e571f8b8e5",
        "colab": {
          "base_uri": "https://localhost:8080/",
          "height": 295
        }
      },
      "source": [
        "import numpy as np\n",
        "import matplotlib.pyplot as plt\n",
        "\n",
        "# Compute the x and y coordinates for points on sine and cosine curves\n",
        "x = np.arange(0, 2 * np.pi, 1)\n",
        "#括号里前两个是x的范围 比如0-2pi\n",
        "y_sin = np.sin(x)\n",
        "y_cos = np.cos(x)\n",
        "\n",
        "#打印坐标，标题，xy轴\n",
        "plt.plot(x, y_sin)\n",
        "plt.plot(x, y_cos)\n",
        "plt.xlabel('SY')\n",
        "plt.ylabel('HXR')\n",
        "plt.title('❤')\n",
        "plt.show()\n",
        "\n",
        "\n"
      ],
      "execution_count": 26,
      "outputs": [
        {
          "output_type": "display_data",
          "data": {
            "image/png": "[encoded data removed]",
            "text/plain": [
              "<Figure size 432x288 with 1 Axes>"
            ]
          },
          "metadata": {
            "tags": []
          }
        }
      ]
    },
    {
      "cell_type": "code",
      "metadata": {
        "id": "7FQpjFZ-L5Wv",
        "colab_type": "code",
        "colab": {
          "base_uri": "https://localhost:8080/",
          "height": 287
        },
        "outputId": "909b2b05-1125-48b0-c4ff-73398ae3da28"
      },
      "source": [
        "import numpy as np\n",
        "import matplotlib.pyplot as plt\n",
        "\n",
        "x=np.arange(0,3 *np.pi,0.2)\n",
        "y=np.sin(x)\n",
        "\n",
        "plt.show()\n",
        "plt.plot(x,y,\"c\")  \n",
        "#改变颜色在“c\""
      ],
      "execution_count": 34,
      "outputs": [
        {
          "output_type": "execute_result",
          "data": {
            "text/plain": [
              "[<matplotlib.lines.Line2D at 0x7f5c30252358>]"
            ]
          },
          "metadata": {
            "tags": []
          },
          "execution_count": 34
        },
        {
          "output_type": "display_data",
          "data": {
            "image/png": "[encoded data removed]",
            "text/plain": [
              "<Figure size 432x288 with 1 Axes>"
            ]
          },
          "metadata": {
            "tags": []
          }
        }
      ]
    },
    {
      "cell_type": "code",
      "metadata": {
        "id": "VOPNfkDhN31G",
        "colab_type": "code",
        "colab": {
          "base_uri": "https://localhost:8080/",
          "height": 161
        },
        "outputId": "2301d1df-3bec-4cd9-c2d0-7d26beab0958"
      },
      "source": [
        "import numpy as np\n",
        "from scipy.spatial.distance import pdist, squareform\n",
        "#计算给定集合中所有点对之间的距离\n",
        "\n",
        "x = np.array([[0, 1], [1, 0], [2, 0],[3,3]])\n",
        "print(x)\n",
        "\n",
        "d = squareform(pdist(x, 'euclidean'))\n",
        "print(d)"
      ],
      "execution_count": 36,
      "outputs": [
        {
          "output_type": "stream",
          "text": [
            "[[0 1]\n",
            " [1 0]\n",
            " [2 0]\n",
            " [3 3]]\n",
            "[[0.         1.41421356 2.23606798 3.60555128]\n",
            " [1.41421356 0.         1.         3.60555128]\n",
            " [2.23606798 1.         0.         3.16227766]\n",
            " [3.60555128 3.60555128 3.16227766 0.        ]]\n"
          ],
          "name": "stdout"
        }
      ]
    },
    {
      "cell_type": "code",
      "metadata": {
        "id": "Wefgku-BOgEQ",
        "colab_type": "code",
        "colab": {}
      },
      "source": [
        "!pip install -q imread"
      ],
      "execution_count": 0,
      "outputs": []
    },
    {
      "cell_type": "code",
      "metadata": {
        "id": "Xbhi_jixO2W4",
        "colab_type": "code",
        "colab": {}
      },
      "source": [
        "\n"
      ],
      "execution_count": 0,
      "outputs": []
    }
  ]
}